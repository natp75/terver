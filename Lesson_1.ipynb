{
 "cells": [
  {
   "cell_type": "markdown",
   "id": "c4084057",
   "metadata": {},
   "source": [
    "## Практическое задание к лекции 1.\n",
    "1) Из колоды в 52 карты извлекаются случайным образом 4 карты.\n",
    "a) Найти вероятность того, что все карты – крести.\n",
    "б) Найти вероятность, что среди 4-х карт окажется хотя бы один туз."
   ]
  },
  {
   "cell_type": "code",
   "execution_count": 7,
   "id": "162367c8",
   "metadata": {},
   "outputs": [],
   "source": [
    "from math import factorial\n",
    "def combinations (n,m):\n",
    "    return int(factorial (n)/(factorial(m)*factorial(n-m)))\n"
   ]
  },
  {
   "cell_type": "code",
   "execution_count": 8,
   "id": "f5e3e876",
   "metadata": {},
   "outputs": [
    {
     "data": {
      "text/plain": [
       "715"
      ]
     },
     "execution_count": 8,
     "metadata": {},
     "output_type": "execute_result"
    }
   ],
   "source": [
    "m = combinations(13,4)# Найти вероятность того, что все карты – крести.\n",
    "m"
   ]
  },
  {
   "cell_type": "code",
   "execution_count": 9,
   "id": "bc5a0d2e",
   "metadata": {},
   "outputs": [
    {
     "data": {
      "text/plain": [
       "270725"
      ]
     },
     "execution_count": 9,
     "metadata": {},
     "output_type": "execute_result"
    }
   ],
   "source": [
    "n = combinations(52,4)\n",
    "n"
   ]
  },
  {
   "cell_type": "code",
   "execution_count": 15,
   "id": "046dd0fc",
   "metadata": {},
   "outputs": [
    {
     "name": "stdout",
     "output_type": "stream",
     "text": [
      "P(4 трефы) = 28.13\n"
     ]
    }
   ],
   "source": [
    "P=m/n\n",
    "print(f'P(4 трефы) = {round(P,4)*100}')\n"
   ]
  },
  {
   "cell_type": "code",
   "execution_count": 13,
   "id": "3c85e691",
   "metadata": {},
   "outputs": [
    {
     "data": {
      "text/plain": [
       "270725"
      ]
     },
     "execution_count": 13,
     "metadata": {},
     "output_type": "execute_result"
    }
   ],
   "source": [
    "n = combinations(52, 4) # Найти вероятность, что среди 4-х карт окажется хотя бы один туз.\n",
    "n"
   ]
  },
  {
   "cell_type": "code",
   "execution_count": 14,
   "id": "90ba7bd4",
   "metadata": {},
   "outputs": [
    {
     "data": {
      "text/plain": [
       "76145"
      ]
     },
     "execution_count": 14,
     "metadata": {},
     "output_type": "execute_result"
    }
   ],
   "source": [
    "m=sum([combinations(4,1)*combinations(48,3),combinations(4,2)*combinations(48,2),combinations(4,3)*combinations(48,1),1])\n",
    "m"
   ]
  },
  {
   "cell_type": "code",
   "execution_count": 16,
   "id": "2d974e82",
   "metadata": {},
   "outputs": [
    {
     "name": "stdout",
     "output_type": "stream",
     "text": [
      "P(хотя бы 1 туз) = 28.13\n"
     ]
    }
   ],
   "source": [
    "P=m/n\n",
    "print(f'P(хотя бы 1 туз) = {round(P,4)*100}')"
   ]
  },
  {
   "cell_type": "markdown",
   "id": "2e5e77f7",
   "metadata": {},
   "source": [
    "## 2) На входной двери подъезда установлен кодовый замок, содержащий десять кнопок с цифрами от 0 до 9. Код содержит три цифры, которые нужно нажать одновременно. Какова вероятность того, что человек, не знающий код, откроет дверь с первой попытки?\n"
   ]
  },
  {
   "cell_type": "code",
   "execution_count": 17,
   "id": "bcf4900a",
   "metadata": {},
   "outputs": [
    {
     "data": {
      "text/plain": [
       "120"
      ]
     },
     "execution_count": 17,
     "metadata": {},
     "output_type": "execute_result"
    }
   ],
   "source": [
    "n = combinations(10,3) # общее число исходов будет определяться количиством сочетаний 3-х элементов из 10\n",
    "n"
   ]
  },
  {
   "cell_type": "code",
   "execution_count": null,
   "id": "79bf642a",
   "metadata": {},
   "outputs": [],
   "source": [
    "m = 1 # количество благоприятных исходов 1 -замок открылся"
   ]
  },
  {
   "cell_type": "code",
   "execution_count": 20,
   "id": "dcf2192f",
   "metadata": {},
   "outputs": [
    {
     "name": "stdout",
     "output_type": "stream",
     "text": [
      "P(открыть с первой попытки) = 0.83\n"
     ]
    }
   ],
   "source": [
    "P=1/combinations(10,3)\n",
    "print(f'P(открыть с первой попытки) = {round(P,4)*100}')"
   ]
  },
  {
   "cell_type": "markdown",
   "id": "7a47dd4f",
   "metadata": {},
   "source": [
    "## 3) В ящике имеется 15 деталей, из которых 9 окрашены. Рабочий случайным образом извлекает 3 детали. Какова вероятность того, что все извлеченные детали окрашены?"
   ]
  },
  {
   "cell_type": "code",
   "execution_count": 23,
   "id": "e9586bc7",
   "metadata": {},
   "outputs": [
    {
     "name": "stdout",
     "output_type": "stream",
     "text": [
      "P(3 из 3-х окрашены) = 18.5\n"
     ]
    }
   ],
   "source": [
    "P=combinations(9,3)/combinations(15,3)\n",
    "print(f'P(3 из 3-х окрашены) = {round(P,3)*100}')"
   ]
  },
  {
   "cell_type": "markdown",
   "id": "343d5c82",
   "metadata": {},
   "source": [
    "## 4) В лотерее 100 билетов. Из них 2 выигрышных. Какова вероятность того, что 2 приобретенных билета окажутся выигрышными?"
   ]
  },
  {
   "cell_type": "code",
   "execution_count": 26,
   "id": "ade56dbb",
   "metadata": {},
   "outputs": [
    {
     "name": "stdout",
     "output_type": "stream",
     "text": [
      "P(оба выигрышных) = 0.02\n"
     ]
    }
   ],
   "source": [
    "P=1/combinations(100,2)\n",
    "print(f'P(оба выигрышных) = {round(P,4)*100}')"
   ]
  },
  {
   "cell_type": "code",
   "execution_count": null,
   "id": "25eb6794",
   "metadata": {},
   "outputs": [],
   "source": []
  }
 ],
 "metadata": {
  "kernelspec": {
   "display_name": "Python 3",
   "language": "python",
   "name": "python3"
  },
  "language_info": {
   "codemirror_mode": {
    "name": "ipython",
    "version": 3
   },
   "file_extension": ".py",
   "mimetype": "text/x-python",
   "name": "python",
   "nbconvert_exporter": "python",
   "pygments_lexer": "ipython3",
   "version": "3.8.8"
  }
 },
 "nbformat": 4,
 "nbformat_minor": 5
}
