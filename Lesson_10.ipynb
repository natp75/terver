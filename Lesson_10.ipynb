{
 "cells": [
  {
   "cell_type": "markdown",
   "id": "65b1684d",
   "metadata": {},
   "source": [
    "### Задача\n",
    "Провести дисперсионный анализ для определения того, есть ли различия среднего роста среди взрослых футболистов, хоккеистов и штангистов.\n",
    "Даны значения роста в трех группах случайно выбранных спортсменов:\n",
    "Футболисты: 173, 175, 180, 178, 177, 185, 183, 182.\n",
    "Хоккеисты: 177, 179, 180, 188, 177, 172, 171, 184, 180.\n",
    "Штангисты: 172, 173, 169, 177, 166, 180, 178, 177, 172, 166, 170.\n"
   ]
  },
  {
   "cell_type": "code",
   "execution_count": 1,
   "id": "144ce5fb",
   "metadata": {},
   "outputs": [],
   "source": [
    "import scipy.stats as stats\n",
    "import numpy as np"
   ]
  },
  {
   "cell_type": "code",
   "execution_count": 2,
   "id": "ff1fce73",
   "metadata": {},
   "outputs": [],
   "source": [
    "football_players=np.array([173, 175, 180, 178, 177, 185, 183, 182])\n",
    "hockey_players=np.array([177, 179, 180, 188, 177, 172, 171, 184, 180])\n",
    "weightlifters=np.array([172, 173, 169, 177, 166, 180, 178, 177, 172, 166, 170])"
   ]
  },
  {
   "cell_type": "code",
   "execution_count": 6,
   "id": "e499829f",
   "metadata": {},
   "outputs": [],
   "source": [
    "alpha=0.05 "
   ]
  },
  {
   "cell_type": "markdown",
   "id": "1c23ba15",
   "metadata": {},
   "source": [
    "### Проверим данные на нормальность распределения"
   ]
  },
  {
   "cell_type": "code",
   "execution_count": 7,
   "id": "b8d68c7b",
   "metadata": {},
   "outputs": [
    {
     "data": {
      "text/plain": [
       "ShapiroResult(statistic=0.9775081276893616, pvalue=0.9495397210121155)"
      ]
     },
     "execution_count": 7,
     "metadata": {},
     "output_type": "execute_result"
    }
   ],
   "source": [
    "stats.shapiro(football_players)"
   ]
  },
  {
   "cell_type": "code",
   "execution_count": 8,
   "id": "b1e526c5",
   "metadata": {},
   "outputs": [
    {
     "data": {
      "text/plain": [
       "ShapiroResult(statistic=0.9579195976257324, pvalue=0.7763133645057678)"
      ]
     },
     "execution_count": 8,
     "metadata": {},
     "output_type": "execute_result"
    }
   ],
   "source": [
    "stats.shapiro(hockey_players)"
   ]
  },
  {
   "cell_type": "code",
   "execution_count": 9,
   "id": "64c19dbc",
   "metadata": {},
   "outputs": [
    {
     "data": {
      "text/plain": [
       "ShapiroResult(statistic=0.93868088722229, pvalue=0.5051169991493225)"
      ]
     },
     "execution_count": 9,
     "metadata": {},
     "output_type": "execute_result"
    }
   ],
   "source": [
    "stats.shapiro(weightlifters)"
   ]
  },
  {
   "cell_type": "markdown",
   "id": "464fa452",
   "metadata": {},
   "source": [
    "p-value для каждой выборки больше alpha - принимаем, что данные распределены нормально.\n",
    "\n",
    "Проверим равенство дисперсий."
   ]
  },
  {
   "cell_type": "code",
   "execution_count": 10,
   "id": "0b439d5f",
   "metadata": {},
   "outputs": [
    {
     "data": {
      "text/plain": [
       "BartlettResult(statistic=0.4640521043406442, pvalue=0.7929254656083131)"
      ]
     },
     "execution_count": 10,
     "metadata": {},
     "output_type": "execute_result"
    }
   ],
   "source": [
    "stats.bartlett(football_players, hockey_players, weightlifters)"
   ]
  },
  {
   "cell_type": "markdown",
   "id": "08d2e389",
   "metadata": {},
   "source": [
    " p-value для каждой выборки больше alpha - принимаем, что дисперсии равны.\n",
    "\n",
    "Теперь можно провести однофакторный дисперсионный анализ.\n",
    "Сформулируем гипотезы:\n",
    "H0:μ1=μ2=μ3 - различия среднего роста среди взрослых футболистов, хоккеистов и штангистов нет\n",
    "H1:μ1 != μ2 != μ3 - различия среднего роста среди взрослых футболистов, хоккеистов и штангистов есть"
   ]
  },
  {
   "cell_type": "code",
   "execution_count": 11,
   "id": "e9804615",
   "metadata": {},
   "outputs": [
    {
     "data": {
      "text/plain": [
       "F_onewayResult(statistic=5.500053450812596, pvalue=0.010482206918698694)"
      ]
     },
     "execution_count": 11,
     "metadata": {},
     "output_type": "execute_result"
    }
   ],
   "source": [
    "stats.f_oneway(football_players, hockey_players, weightlifters)"
   ]
  },
  {
   "cell_type": "markdown",
   "id": "fe665515",
   "metadata": {},
   "source": [
    "### Получили значение \n",
    "p-value = 0.01048 на уровне статистической значимости alpha=0.05 \n",
    " значит отвергаем нулевую гипотезу.\n",
    "Средний рост футболистов, хоккеистов и штангистоа различен."
   ]
  },
  {
   "cell_type": "code",
   "execution_count": null,
   "id": "e48c5cbe",
   "metadata": {},
   "outputs": [],
   "source": []
  },
  {
   "cell_type": "code",
   "execution_count": null,
   "id": "0e409f5f",
   "metadata": {},
   "outputs": [],
   "source": []
  },
  {
   "cell_type": "code",
   "execution_count": null,
   "id": "3c9f91b5",
   "metadata": {},
   "outputs": [],
   "source": []
  },
  {
   "cell_type": "code",
   "execution_count": null,
   "id": "f7e2ac2f",
   "metadata": {},
   "outputs": [],
   "source": []
  }
 ],
 "metadata": {
  "kernelspec": {
   "display_name": "Python 3",
   "language": "python",
   "name": "python3"
  },
  "language_info": {
   "codemirror_mode": {
    "name": "ipython",
    "version": 3
   },
   "file_extension": ".py",
   "mimetype": "text/x-python",
   "name": "python",
   "nbconvert_exporter": "python",
   "pygments_lexer": "ipython3",
   "version": "3.8.8"
  }
 },
 "nbformat": 4,
 "nbformat_minor": 5
}
