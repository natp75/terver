{
 "cells": [
  {
   "cell_type": "markdown",
   "id": "a2c55dc7",
   "metadata": {},
   "source": [
    "## Урок 2. Дискретные распределения вероятностей"
   ]
  },
  {
   "cell_type": "markdown",
   "id": "1335a3f0",
   "metadata": {},
   "source": [
    "### 1. Вероятность того, что стрелок попадет в мишень, выстрелив один раз, равна 0.8. Стрелок выстрелил 100 раз. Найдите вероятность того, что стрелок попадет в цель ровно 85 раз."
   ]
  },
  {
   "cell_type": "code",
   "execution_count": 1,
   "id": "6da5bc94",
   "metadata": {},
   "outputs": [],
   "source": [
    "from math import factorial, exp\n",
    "def bernulli(n, k, p):\n",
    "    comb=factorial(n)/(factorial(k)*factorial(n-k))\n",
    "    return comb*(p**k)*(1-p)**(n-k)"
   ]
  },
  {
   "cell_type": "code",
   "execution_count": 10,
   "id": "7cf754c0",
   "metadata": {},
   "outputs": [
    {
     "data": {
      "text/plain": [
       "4.806179370074635"
      ]
     },
     "execution_count": 10,
     "metadata": {},
     "output_type": "execute_result"
    }
   ],
   "source": [
    "P = bernulli(100, 85, 0.8)\n",
    "P*100"
   ]
  },
  {
   "cell_type": "markdown",
   "id": "e4d62e21",
   "metadata": {},
   "source": [
    "### 2. Вероятность того, что лампочка перегорит в течение первого дня эксплуатации, равна 0.0004. В жилом комплексе после ремонта в один день включили 5000 новых лампочек.\n",
    "a) Какова вероятность, что ни одна из них не перегорит в первый день?\n",
    "б) Какова вероятность, что перегорят ровно две?"
   ]
  },
  {
   "cell_type": "code",
   "execution_count": 11,
   "id": "33a8c5b8",
   "metadata": {},
   "outputs": [],
   "source": [
    "def poisson_distr(m,p,n):\n",
    "    lamb=p*n\n",
    "    return exp(-lamb)*(lamb**m)/factorial(m)"
   ]
  },
  {
   "cell_type": "code",
   "execution_count": 16,
   "id": "5ea0588e",
   "metadata": {},
   "outputs": [
    {
     "data": {
      "text/plain": [
       "0.135"
      ]
     },
     "execution_count": 16,
     "metadata": {},
     "output_type": "execute_result"
    }
   ],
   "source": [
    "P_1 = poisson_distr(0,0.0004,5000) # вероятность, что ни одна из них не перегорит в первый день\n",
    "round(P_1, 3)"
   ]
  },
  {
   "cell_type": "code",
   "execution_count": 17,
   "id": "985c5736",
   "metadata": {},
   "outputs": [
    {
     "data": {
      "text/plain": [
       "0.271"
      ]
     },
     "execution_count": 17,
     "metadata": {},
     "output_type": "execute_result"
    }
   ],
   "source": [
    "P_2 = poisson_distr(2,0.0004,5000) # вероятность, что перегорят ровно две\n",
    "round(P_2, 3)"
   ]
  },
  {
   "cell_type": "markdown",
   "id": "4670eeb2",
   "metadata": {},
   "source": [
    "### 3. Монету подбросили 144 раза. Какова вероятность, что орел выпадет ровно 70 раз?"
   ]
  },
  {
   "cell_type": "code",
   "execution_count": 21,
   "id": "6dc1cfdf",
   "metadata": {},
   "outputs": [
    {
     "data": {
      "text/plain": [
       "0.063"
      ]
     },
     "execution_count": 21,
     "metadata": {},
     "output_type": "execute_result"
    }
   ],
   "source": [
    "P = bernulli(144, 70, 0.5)\n",
    "round(P, 3)"
   ]
  },
  {
   "cell_type": "markdown",
   "id": "5f59480d",
   "metadata": {},
   "source": [
    "### 4. В первом ящике находится 10 мячей, из которых 7 - белые. Во втором ящике - 11 мячей, из которых 9 белых. Из каждого ящика вытаскивают случайным образом по два мяча. Какова вероятность того, что все мячи белые? Какова вероятность того, что ровно два мяча белые? Какова вероятность того, что хотя бы один мяч белый?"
   ]
  },
  {
   "cell_type": "code",
   "execution_count": 5,
   "id": "49a693c1",
   "metadata": {},
   "outputs": [
    {
     "data": {
      "text/plain": [
       "45"
      ]
     },
     "execution_count": 5,
     "metadata": {},
     "output_type": "execute_result"
    }
   ],
   "source": [
    "def combinations (n,m):\n",
    "    return int (factorial(n)/(factorial(m) * factorial(n-m)))\n",
    "n1 = combinations(10,2)\n",
    "n1"
   ]
  },
  {
   "cell_type": "code",
   "execution_count": 6,
   "id": "0f24152d",
   "metadata": {},
   "outputs": [
    {
     "data": {
      "text/plain": [
       "55"
      ]
     },
     "execution_count": 6,
     "metadata": {},
     "output_type": "execute_result"
    }
   ],
   "source": [
    "n2 = combinations(11,2)\n",
    "n2"
   ]
  },
  {
   "cell_type": "code",
   "execution_count": 7,
   "id": "1ce23b29",
   "metadata": {},
   "outputs": [
    {
     "data": {
      "text/plain": [
       "21"
      ]
     },
     "execution_count": 7,
     "metadata": {},
     "output_type": "execute_result"
    }
   ],
   "source": [
    "m1 = combinations(7,2)       #  вероятность того, что все мячи белые ; одновременное наступление двух событий\n",
    "m1"
   ]
  },
  {
   "cell_type": "code",
   "execution_count": 8,
   "id": "d6ae0099",
   "metadata": {},
   "outputs": [
    {
     "data": {
      "text/plain": [
       "36"
      ]
     },
     "execution_count": 8,
     "metadata": {},
     "output_type": "execute_result"
    }
   ],
   "source": [
    "m2 = combinations(9,2)\n",
    "m2"
   ]
  },
  {
   "cell_type": "code",
   "execution_count": 9,
   "id": "1a246c4e",
   "metadata": {},
   "outputs": [
    {
     "data": {
      "text/plain": [
       "0.4666666666666667"
      ]
     },
     "execution_count": 9,
     "metadata": {},
     "output_type": "execute_result"
    }
   ],
   "source": [
    "P1 = m1/n1\n",
    "P1"
   ]
  },
  {
   "cell_type": "code",
   "execution_count": 10,
   "id": "2468db79",
   "metadata": {},
   "outputs": [
    {
     "data": {
      "text/plain": [
       "0.6545454545454545"
      ]
     },
     "execution_count": 10,
     "metadata": {},
     "output_type": "execute_result"
    }
   ],
   "source": [
    "P2 = m2/n2\n",
    "P2"
   ]
  },
  {
   "cell_type": "code",
   "execution_count": 11,
   "id": "f17552c2",
   "metadata": {},
   "outputs": [
    {
     "data": {
      "text/plain": [
       "0.3054545454545455"
      ]
     },
     "execution_count": 11,
     "metadata": {},
     "output_type": "execute_result"
    }
   ],
   "source": [
    "P = P1 * P2\n",
    "P"
   ]
  },
  {
   "cell_type": "code",
   "execution_count": 12,
   "id": "cec1ab7f",
   "metadata": {},
   "outputs": [
    {
     "data": {
      "text/plain": [
       "21"
      ]
     },
     "execution_count": 12,
     "metadata": {},
     "output_type": "execute_result"
    }
   ],
   "source": [
    "m1_1 = combinations(7,2)     # ровно два мяча белые\n",
    "m1_1"
   ]
  },
  {
   "cell_type": "code",
   "execution_count": 21,
   "id": "e5e975cd",
   "metadata": {},
   "outputs": [
    {
     "data": {
      "text/plain": [
       "1"
      ]
     },
     "execution_count": 21,
     "metadata": {},
     "output_type": "execute_result"
    }
   ],
   "source": [
    "m1_2 = combinations(2,2)\n",
    "m1_2"
   ]
  },
  {
   "cell_type": "code",
   "execution_count": 16,
   "id": "8e3e0d87",
   "metadata": {},
   "outputs": [
    {
     "data": {
      "text/plain": [
       "21"
      ]
     },
     "execution_count": 16,
     "metadata": {},
     "output_type": "execute_result"
    }
   ],
   "source": [
    "m2_1 = combinations(7,1)*combinations(3,1)\n",
    "m2_1"
   ]
  },
  {
   "cell_type": "code",
   "execution_count": 17,
   "id": "e9a6ca84",
   "metadata": {},
   "outputs": [
    {
     "data": {
      "text/plain": [
       "18"
      ]
     },
     "execution_count": 17,
     "metadata": {},
     "output_type": "execute_result"
    }
   ],
   "source": [
    "m2_2 = combinations(9,1)*combinations(2,1)\n",
    "m2_2"
   ]
  },
  {
   "cell_type": "code",
   "execution_count": 20,
   "id": "6d8f9345",
   "metadata": {},
   "outputs": [
    {
     "data": {
      "text/plain": [
       "3"
      ]
     },
     "execution_count": 20,
     "metadata": {},
     "output_type": "execute_result"
    }
   ],
   "source": [
    "m3_1 = combinations(3,2)\n",
    "m3_1"
   ]
  },
  {
   "cell_type": "code",
   "execution_count": 19,
   "id": "c7e3ed13",
   "metadata": {},
   "outputs": [
    {
     "data": {
      "text/plain": [
       "36"
      ]
     },
     "execution_count": 19,
     "metadata": {},
     "output_type": "execute_result"
    }
   ],
   "source": [
    "m3_2 = combinations(9,2)\n",
    "m3_2"
   ]
  },
  {
   "cell_type": "code",
   "execution_count": 22,
   "id": "fd0091c4",
   "metadata": {},
   "outputs": [
    {
     "data": {
      "text/plain": [
       "0.20484848484848486"
      ]
     },
     "execution_count": 22,
     "metadata": {},
     "output_type": "execute_result"
    }
   ],
   "source": [
    "P=(m1_1/n1)*(m1_2/n2)+(m2_1/n1)*(m2_2/n2)+(m3_1/n1)*(m3_2/n2)\n",
    "P"
   ]
  },
  {
   "cell_type": "code",
   "execution_count": 23,
   "id": "017b4953",
   "metadata": {},
   "outputs": [
    {
     "data": {
      "text/plain": [
       "3"
      ]
     },
     "execution_count": 23,
     "metadata": {},
     "output_type": "execute_result"
    }
   ],
   "source": [
    "m1=combinations(3,2) # хотя бы один мяч белый\n",
    "m1\n",
    "    "
   ]
  },
  {
   "cell_type": "code",
   "execution_count": 24,
   "id": "df781f2c",
   "metadata": {},
   "outputs": [
    {
     "data": {
      "text/plain": [
       "1"
      ]
     },
     "execution_count": 24,
     "metadata": {},
     "output_type": "execute_result"
    }
   ],
   "source": [
    "m2=combinations(2,2)\n",
    "m2"
   ]
  },
  {
   "cell_type": "code",
   "execution_count": 25,
   "id": "ad6507bc",
   "metadata": {},
   "outputs": [
    {
     "data": {
      "text/plain": [
       "0.9987878787878788"
      ]
     },
     "execution_count": 25,
     "metadata": {},
     "output_type": "execute_result"
    }
   ],
   "source": [
    "P = 1-(m1/n1)*(m2/n2)\n",
    "P"
   ]
  },
  {
   "cell_type": "code",
   "execution_count": null,
   "id": "314c4667",
   "metadata": {},
   "outputs": [],
   "source": []
  },
  {
   "cell_type": "code",
   "execution_count": null,
   "id": "919f60aa",
   "metadata": {},
   "outputs": [],
   "source": []
  },
  {
   "cell_type": "code",
   "execution_count": null,
   "id": "e0bd8b58",
   "metadata": {},
   "outputs": [],
   "source": []
  }
 ],
 "metadata": {
  "kernelspec": {
   "display_name": "Python 3",
   "language": "python",
   "name": "python3"
  },
  "language_info": {
   "codemirror_mode": {
    "name": "ipython",
    "version": 3
   },
   "file_extension": ".py",
   "mimetype": "text/x-python",
   "name": "python",
   "nbconvert_exporter": "python",
   "pygments_lexer": "ipython3",
   "version": "3.8.8"
  }
 },
 "nbformat": 4,
 "nbformat_minor": 5
}
