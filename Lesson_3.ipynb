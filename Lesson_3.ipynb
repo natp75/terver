{
 "cells": [
  {
   "cell_type": "markdown",
   "id": "e7d7e255",
   "metadata": {},
   "source": [
    "## Практическое задание к лекции 3.\n",
    "1. Даны значения зарплат из выборки выпускников: 100, 80, 75, 77, 89, 33, 45, 25, 65, 17, 30, 24, 57, 55, 70, 75, 65, 84, 90, 150. Посчитать (желательно без использования статистических методов наподобие std, var, mean):\n",
    "а) среднее арифметическое,\n",
    "б) среднее квадратичное отклонение,\n",
    "с) смещенную и несмещенную оценки дисперсий для данной выборки."
   ]
  },
  {
   "cell_type": "code",
   "execution_count": 1,
   "id": "75c02073",
   "metadata": {},
   "outputs": [],
   "source": [
    "import numpy as np\n",
    "from math import factorial"
   ]
  },
  {
   "cell_type": "code",
   "execution_count": 2,
   "id": "bac6ccec",
   "metadata": {},
   "outputs": [
    {
     "data": {
      "text/plain": [
       "array([100,  80,  75,  77,  89,  33,  45,  25,  65,  17,  30,  24,  57,\n",
       "        55,  70,  75,  65,  84,  90, 150])"
      ]
     },
     "execution_count": 2,
     "metadata": {},
     "output_type": "execute_result"
    }
   ],
   "source": [
    "arr=np.array([100, 80, 75, 77, 89, 33, 45, 25, 65, 17, 30, 24, 57, 55, 70, 75, 65, 84, 90, 150])\n",
    "arr"
   ]
  },
  {
   "cell_type": "markdown",
   "id": "602be166",
   "metadata": {},
   "source": [
    "### a) Расчитаем среднее арифметическое"
   ]
  },
  {
   "cell_type": "code",
   "execution_count": 4,
   "id": "d75af6c3",
   "metadata": {},
   "outputs": [],
   "source": [
    "def mean_value(array):\n",
    "    return sum(array)/len(array)"
   ]
  },
  {
   "cell_type": "code",
   "execution_count": 5,
   "id": "76a0ce86",
   "metadata": {},
   "outputs": [
    {
     "name": "stdout",
     "output_type": "stream",
     "text": [
      "Среднее арифметическое для данной выборки М(Х) =  65.30\n"
     ]
    }
   ],
   "source": [
    "print(f'Среднее арифметическое для данной выборки М(Х) = {mean_value(arr): .2f}')"
   ]
  },
  {
   "cell_type": "code",
   "execution_count": 6,
   "id": "1531fd1f",
   "metadata": {},
   "outputs": [
    {
     "data": {
      "text/plain": [
       "65.3"
      ]
     },
     "execution_count": 6,
     "metadata": {},
     "output_type": "execute_result"
    }
   ],
   "source": [
    "np.mean(arr)"
   ]
  },
  {
   "cell_type": "markdown",
   "id": "3357a8cc",
   "metadata": {},
   "source": [
    "### б) Расчитаем среднее квадратичное отклонение выборки"
   ]
  },
  {
   "cell_type": "code",
   "execution_count": 7,
   "id": "fc0e1c4f",
   "metadata": {},
   "outputs": [],
   "source": [
    "def mean_square_deviation(array):\n",
    "    square_dev=(array-mean_value(array))**2\n",
    "    return (sum(square_dev)/len(square_dev))**(1/2)"
   ]
  },
  {
   "cell_type": "code",
   "execution_count": 8,
   "id": "2c2c453c",
   "metadata": {},
   "outputs": [
    {
     "name": "stdout",
     "output_type": "stream",
     "text": [
      "Среднее квадратичное отклонение для данной выборки SD =  30.8239\n"
     ]
    }
   ],
   "source": [
    "print(f'Среднее квадратичное отклонение для данной выборки SD = {mean_square_deviation(arr): .4f}')"
   ]
  },
  {
   "cell_type": "markdown",
   "id": "42a0c699",
   "metadata": {},
   "source": [
    "### Проверим с помощью функции std:"
   ]
  },
  {
   "cell_type": "code",
   "execution_count": 9,
   "id": "57fbfdee",
   "metadata": {},
   "outputs": [
    {
     "data": {
      "text/plain": [
       "30.823854398825596"
      ]
     },
     "execution_count": 9,
     "metadata": {},
     "output_type": "execute_result"
    }
   ],
   "source": [
    "np.std(arr)"
   ]
  },
  {
   "cell_type": "markdown",
   "id": "3e8a2e29",
   "metadata": {},
   "source": [
    "### Расчитаем смещенную и несмещённую оценку дисперсии "
   ]
  },
  {
   "cell_type": "code",
   "execution_count": 10,
   "id": "6640d484",
   "metadata": {},
   "outputs": [],
   "source": [
    "def dispers(array, no_off=False):\n",
    "#аргумент no_off отвечает за расчет смещенной, или несмещенной оценки дисперсии. По умолчанио расчитывается смещенная.#\n",
    "    square_dev=(array-mean_value(array))**2\n",
    "    return sum(square_dev)/(len(square_dev)-1) if no_off else sum(square_dev)/len(square_dev)"
   ]
  },
  {
   "cell_type": "code",
   "execution_count": 11,
   "id": "5f8d1160",
   "metadata": {},
   "outputs": [
    {
     "name": "stdout",
     "output_type": "stream",
     "text": [
      "Смещенная оценка дисперсии для данной выборки D =  950.1100\n",
      "Немещенная оценка дисперсии для данной выборки D =  1000.1158\n"
     ]
    }
   ],
   "source": [
    "print(f'Смещенная оценка дисперсии для данной выборки D = {dispers(arr): .4f}\\n'\n",
    "      f'Немещенная оценка дисперсии для данной выборки D = {dispers(arr, True): .4f}'\n",
    "     )"
   ]
  },
  {
   "cell_type": "markdown",
   "id": "c311f817",
   "metadata": {},
   "source": [
    "### Проверим с помощью функции var:"
   ]
  },
  {
   "cell_type": "code",
   "execution_count": 12,
   "id": "f738deda",
   "metadata": {},
   "outputs": [
    {
     "data": {
      "text/plain": [
       "950.11"
      ]
     },
     "execution_count": 12,
     "metadata": {},
     "output_type": "execute_result"
    }
   ],
   "source": [
    "np.var(arr)"
   ]
  },
  {
   "cell_type": "code",
   "execution_count": 13,
   "id": "901a0cc1",
   "metadata": {},
   "outputs": [
    {
     "data": {
      "text/plain": [
       "1000.1157894736842"
      ]
     },
     "execution_count": 13,
     "metadata": {},
     "output_type": "execute_result"
    }
   ],
   "source": [
    "np.var(arr, ddof=1)"
   ]
  },
  {
   "cell_type": "markdown",
   "id": "8f56a6bc",
   "metadata": {},
   "source": [
    "# 2. В первом ящике находится 8 мячей, из которых 5 - белые. Во втором ящике - 12 мячей, из которых 5 белых. Из первого ящика вытаскивают случайным образом два мяча, из второго - 4. Какова вероятность того, что 3 мяча белые?"
   ]
  },
  {
   "cell_type": "code",
   "execution_count": 14,
   "id": "41b9793b",
   "metadata": {},
   "outputs": [],
   "source": [
    "def combinations(n,k):\n",
    "    return factorial(n)/(factorial(k)*factorial(n-k))"
   ]
  },
  {
   "cell_type": "code",
   "execution_count": 15,
   "id": "1ce64666",
   "metadata": {},
   "outputs": [
    {
     "name": "stdout",
     "output_type": "stream",
     "text": [
      "Вероятность события \"из первой корзины не вытащили ни одного белого мяча, из второй вытащили 3 белых мяча\"\n",
      "P(A1) =  0.0152\n"
     ]
    }
   ],
   "source": [
    "P1=(combinations(3,2)/combinations(8,2))*(combinations(5,3)*combinations(7,1)/combinations(12,4))\n",
    "print(f'Вероятность события \"из первой корзины не вытащили ни одного белого мяча'\n",
    "      f', из второй вытащили 3 белых мяча\"\\nP(A1) = {P1: .4f}'\n",
    "     )"
   ]
  },
  {
   "cell_type": "markdown",
   "id": "4055cebd",
   "metadata": {},
   "source": [
    "### Определим вероятность события A2:"
   ]
  },
  {
   "cell_type": "code",
   "execution_count": 16,
   "id": "fde84ad2",
   "metadata": {},
   "outputs": [
    {
     "name": "stdout",
     "output_type": "stream",
     "text": [
      "Вероятность события \"из первой корзины вытащили 1 белый мяч, из второй вытащили 2 белых мяча\"\n",
      "P(A2) =  0.2273\n"
     ]
    }
   ],
   "source": [
    "P2=(combinations(5,1)*combinations(3,1)*combinations(5,2)*combinations(7,2))/(combinations(8,2)*combinations(12,4))\n",
    "print(f'Вероятность события \"из первой корзины вытащили 1 белый мяч'\n",
    "      f', из второй вытащили 2 белых мяча\"\\nP(A2) = {P2: .4f}'\n",
    "     )"
   ]
  },
  {
   "cell_type": "markdown",
   "id": "ec1e319c",
   "metadata": {},
   "source": [
    "### Определим вероятность события A3:"
   ]
  },
  {
   "cell_type": "code",
   "execution_count": 17,
   "id": "bac2762d",
   "metadata": {},
   "outputs": [
    {
     "name": "stdout",
     "output_type": "stream",
     "text": [
      "Вероятность события \"из первой корзины вытащили 2 белых мяча, из второй вытащили 1 белый мяч\"\n",
      "P(A2) =  0.1263\n"
     ]
    }
   ],
   "source": [
    "P3=(combinations(5,2)*combinations(5,1)*combinations(7,3))/(combinations(8,2)*combinations(12,4))\n",
    "print(f'Вероятность события \"из первой корзины вытащили 2 белых мяча'\n",
    "      f', из второй вытащили 1 белый мяч\"\\nP(A2) = {P3: .4f}'\n",
    "     )"
   ]
  },
  {
   "cell_type": "markdown",
   "id": "95437fd7",
   "metadata": {},
   "source": [
    "### Вероятность того, что из вытащенных мячей 3 белые Р(А):"
   ]
  },
  {
   "cell_type": "code",
   "execution_count": 18,
   "id": "39a2f3a7",
   "metadata": {},
   "outputs": [
    {
     "name": "stdout",
     "output_type": "stream",
     "text": [
      "Вероятность того, что из вытащенных мячей 3 белые Р(А) =  0.3687\n"
     ]
    }
   ],
   "source": [
    "print(f'Вероятность того, что из вытащенных мячей 3 белые Р(А) = {P1+P2+P3: .4f}')"
   ]
  },
  {
   "cell_type": "markdown",
   "id": "b09099ba",
   "metadata": {},
   "source": [
    "# 3. На соревновании по биатлону один из трех спортсменов стреляет и попадает в мишень. Вероятность попадания для первого спортсмена равна 0.9, для второго — 0.8, для третьего — 0.6. Найти вероятность того, что выстрел произведен:\n",
    "a) первым спортсменом;\n",
    "б) вторым спортсменом;\n",
    "в) третьим спортсменом."
   ]
  },
  {
   "cell_type": "code",
   "execution_count": 19,
   "id": "499167ec",
   "metadata": {},
   "outputs": [
    {
     "name": "stdout",
     "output_type": "stream",
     "text": [
      "Полная вероятность наступления события А Р(А) =  0.7667\n"
     ]
    }
   ],
   "source": [
    "PB=1/3\n",
    "PA=PB*0.9+PB*0.8+PB*0.6\n",
    "print(f'Полная вероятность наступления события А Р(А) = {PA: .4f}')"
   ]
  },
  {
   "cell_type": "code",
   "execution_count": 20,
   "id": "29b967df",
   "metadata": {},
   "outputs": [
    {
     "name": "stdout",
     "output_type": "stream",
     "text": [
      "Вероятность того, что выстрел произвёл первый спортсмен:  0.3913;\n",
      "Вероятность того, что выстрел произвёл второй спортсмен:  0.3478;\n",
      "Вероятность того, что выстрел произвёл третий спортсмен:  0.2609.\n"
     ]
    }
   ],
   "source": [
    "PAB1=PB*0.9/PA\n",
    "PAB2=PB*0.8/PA\n",
    "PAB3=PB*0.6/PA\n",
    "print(f'Вероятность того, что выстрел произвёл первый спортсмен: {PAB1: .4f};\\n'\n",
    "      f'Вероятность того, что выстрел произвёл второй спортсмен: {PAB2: .4f};\\n'\n",
    "      f'Вероятность того, что выстрел произвёл третий спортсмен: {PAB3: .4f}.'\n",
    "     )"
   ]
  },
  {
   "cell_type": "markdown",
   "id": "8f6a30f1",
   "metadata": {},
   "source": [
    "# 4. В университет на факультеты A и B поступило равное количество студентов, а на факультет C студентов поступило столько же, сколько на A и B вместе. Вероятность того, что студент факультета A сдаст первую сессию, равна 0.8. Для студента факультета B эта вероятность равна 0.7, а для студента факультета C - 0.9. Студент сдал первую сессию. Какова вероятность, что он учится:\n",
    "a) на факультете A;\n",
    "б) на факультете B;\n",
    "в) на факультете C?"
   ]
  },
  {
   "cell_type": "code",
   "execution_count": 21,
   "id": "28092e74",
   "metadata": {},
   "outputs": [
    {
     "name": "stdout",
     "output_type": "stream",
     "text": [
      "Полная вероятность наступления события D, P(D) = 0.825.\n"
     ]
    }
   ],
   "source": [
    "PD=0.25*0.8+0.25*0.7+0.5*0.9\n",
    "print(f'Полная вероятность наступления события D, P(D) = {PD}.')"
   ]
  },
  {
   "cell_type": "code",
   "execution_count": 22,
   "id": "ab45b568",
   "metadata": {},
   "outputs": [
    {
     "name": "stdout",
     "output_type": "stream",
     "text": [
      "Вероятность того, что студент учится на факультете А:  0.2424;\n",
      "Вероятность того, что студент учится на факультете B:  0.2121;\n",
      "Вероятность того, что студент учится на факультете C:  0.5455.\n"
     ]
    }
   ],
   "source": [
    "PDSA=0.25*0.8/PD\n",
    "PDSB=0.25*0.7/PD\n",
    "PDSC=0.5*0.9/PD\n",
    "print(f'Вероятность того, что студент учится на факультете А: {PDSA: .4f};\\n'\n",
    "      f'Вероятность того, что студент учится на факультете B: {PDSB: .4f};\\n'\n",
    "      f'Вероятность того, что студент учится на факультете C: {PDSC: .4f}.'\n",
    "      )"
   ]
  },
  {
   "cell_type": "markdown",
   "id": "d60e38c3",
   "metadata": {},
   "source": [
    "# 5. Устройство состоит из трех деталей. Для первой детали вероятность выйти из строя в первый месяц равна 0.1, для второй - 0.2, для третьей - 0.25. Какова вероятность того, что в первый месяц выйдут из строя:\n",
    "а) все детали;\n",
    "б) только две детали;\n",
    "в) хотя бы одна деталь;\n",
    "г) от одной до двух деталей?"
   ]
  },
  {
   "cell_type": "code",
   "execution_count": 23,
   "id": "0a8690e1",
   "metadata": {},
   "outputs": [
    {
     "name": "stdout",
     "output_type": "stream",
     "text": [
      "Вероятность того, что из строя выйдут все детали Р(3) =  0.0050\n"
     ]
    }
   ],
   "source": [
    "P3=0.1*0.2*0.25\n",
    "print(f'Вероятность того, что из строя выйдут все детали Р(3) = {P3: .4f}')"
   ]
  },
  {
   "cell_type": "code",
   "execution_count": 24,
   "id": "c6c30405",
   "metadata": {},
   "outputs": [
    {
     "name": "stdout",
     "output_type": "stream",
     "text": [
      "Вероятность того, что из строя выйдут только 2 детали Р(2) =  0.0800\n"
     ]
    }
   ],
   "source": [
    "P2=0.1*0.2*0.75+0.1*0.25*0.8+0.2*0.25*0.9\n",
    "print(f'Вероятность того, что из строя выйдут только 2 детали Р(2) = {P2: .4f}')"
   ]
  },
  {
   "cell_type": "code",
   "execution_count": 25,
   "id": "73a96dd6",
   "metadata": {},
   "outputs": [
    {
     "name": "stdout",
     "output_type": "stream",
     "text": [
      "Вероятность того, что из строя не выйдет ни одной детали Р(0) =  0.5400\n"
     ]
    }
   ],
   "source": [
    "P0=0.9*0.8*0.75\n",
    "print(f'Вероятность того, что из строя не выйдет ни одной детали Р(0) = {P0: .4f}')"
   ]
  },
  {
   "cell_type": "code",
   "execution_count": 26,
   "id": "2f400c7c",
   "metadata": {},
   "outputs": [
    {
     "name": "stdout",
     "output_type": "stream",
     "text": [
      "Вероятность того, что выйдет из строя хотя бы одна деталь Р(>=1) =  0.4600\n"
     ]
    }
   ],
   "source": [
    "P_0=1-P0\n",
    "print(f'Вероятность того, что выйдет из строя хотя бы одна деталь Р(>=1) = {P_0: .4f}')"
   ]
  },
  {
   "cell_type": "code",
   "execution_count": 27,
   "id": "00256519",
   "metadata": {},
   "outputs": [
    {
     "name": "stdout",
     "output_type": "stream",
     "text": [
      "Вероятность того, что выйдет из строя одна деталь Р(1) =  0.3750\n"
     ]
    }
   ],
   "source": [
    "P1=0.1*0.8*0.75+0.2*0.9*0.75+0.25*0.9*0.8\n",
    "print(f'Вероятность того, что выйдет из строя одна деталь Р(1) = {P1: .4f}')"
   ]
  },
  {
   "cell_type": "code",
   "execution_count": null,
   "id": "534ed0fa",
   "metadata": {},
   "outputs": [],
   "source": []
  },
  {
   "cell_type": "code",
   "execution_count": null,
   "id": "04fd0922",
   "metadata": {},
   "outputs": [],
   "source": []
  },
  {
   "cell_type": "code",
   "execution_count": null,
   "id": "71ec6555",
   "metadata": {},
   "outputs": [],
   "source": []
  }
 ],
 "metadata": {
  "kernelspec": {
   "display_name": "Python 3",
   "language": "python",
   "name": "python3"
  },
  "language_info": {
   "codemirror_mode": {
    "name": "ipython",
    "version": 3
   },
   "file_extension": ".py",
   "mimetype": "text/x-python",
   "name": "python",
   "nbconvert_exporter": "python",
   "pygments_lexer": "ipython3",
   "version": "3.8.8"
  }
 },
 "nbformat": 4,
 "nbformat_minor": 5
}
