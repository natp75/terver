{
 "cells": [
  {
   "cell_type": "code",
   "execution_count": 1,
   "id": "0e6bc716",
   "metadata": {},
   "outputs": [],
   "source": [
    "# 1. \n",
    "\n",
    "import numpy as np\n",
    "import pandas as pd\n",
    "import matplotlib.pyplot as plt\n",
    "\n",
    "%matplotlib inline"
   ]
  },
  {
   "cell_type": "code",
   "execution_count": 2,
   "id": "e9757d8f",
   "metadata": {},
   "outputs": [],
   "source": [
    "zp = np.array([35, 45, 190, 200, 40, 70, 54, 150, 120, 110])\n",
    "ks = np.array([401, 574, 874, 919, 459, 739, 653, 902, 746, 832])"
   ]
  },
  {
   "cell_type": "code",
   "execution_count": 3,
   "id": "4fd67bac",
   "metadata": {},
   "outputs": [
    {
     "data": {
      "image/png": "[encoded data removed]",
      "text/plain": [
       "<Figure size 432x288 with 1 Axes>"
      ]
     },
     "metadata": {
      "needs_background": "light"
     },
     "output_type": "display_data"
    }
   ],
   "source": [
    "plt.scatter(zp,ks)\n",
    "plt.xlabel('Величина заработной платы')\n",
    "plt.ylabel('Поведенческий кредитный скоринг', rotation=90)\n",
    "plt.show()"
   ]
  },
  {
   "cell_type": "code",
   "execution_count": 4,
   "id": "aadf1ab5",
   "metadata": {},
   "outputs": [
    {
     "data": {
      "text/plain": [
       "2.620538882402765"
      ]
     },
     "execution_count": 4,
     "metadata": {},
     "output_type": "execute_result"
    }
   ],
   "source": [
    "b=(np.mean(zp * ks) - np.mean(zp) * np.mean(ks)) / (np.mean(zp**2) - np.mean(zp) ** 2) # Найдем коэффициент b\n",
    "b"
   ]
  },
  {
   "cell_type": "code",
   "execution_count": 5,
   "id": "73abb914",
   "metadata": {},
   "outputs": [
    {
     "data": {
      "text/plain": [
       "444.1773573243596"
      ]
     },
     "execution_count": 5,
     "metadata": {},
     "output_type": "execute_result"
    }
   ],
   "source": [
    "a=np.mean(ks)-b*np.mean(zp) # Найдем величину интерсепта,кот.показывает чему будет равна зависимая переменная a,если независимая равна 0.\n",
    "a"
   ]
  },
  {
   "cell_type": "code",
   "execution_count": 6,
   "id": "08f26abf",
   "metadata": {},
   "outputs": [
    {
     "data": {
      "image/png": "[encoded data removed]",
      "text/plain": [
       "<Figure size 432x288 with 1 Axes>"
      ]
     },
     "metadata": {
      "needs_background": "light"
     },
     "output_type": "display_data"
    }
   ],
   "source": [
    "plt.scatter(zp,ks)\n",
    "plt.plot(zp, 444.18+2.62*zp, c='r', label=r'$ks=444.18+2.62\\cdot zp$')\n",
    "plt.legend()\n",
    "plt.xlabel('Величина заработной платы')\n",
    "plt.ylabel('Поведенческий кредитный скоринг', rotation=90)\n",
    "plt.show()"
   ]
  },
  {
   "cell_type": "code",
   "execution_count": 7,
   "id": "7b04994d",
   "metadata": {},
   "outputs": [
    {
     "data": {
      "text/plain": [
       "array([[401],\n",
       "       [574],\n",
       "       [874],\n",
       "       [919],\n",
       "       [459],\n",
       "       [739],\n",
       "       [653],\n",
       "       [902],\n",
       "       [746],\n",
       "       [832]])"
      ]
     },
     "execution_count": 7,
     "metadata": {},
     "output_type": "execute_result"
    }
   ],
   "source": [
    "ks=ks.reshape((-1,1))\n",
    "ks"
   ]
  },
  {
   "cell_type": "code",
   "execution_count": 8,
   "id": "5f932973",
   "metadata": {},
   "outputs": [
    {
     "data": {
      "text/plain": [
       "array([[  1.,  35.],\n",
       "       [  1.,  45.],\n",
       "       [  1., 190.],\n",
       "       [  1., 200.],\n",
       "       [  1.,  40.],\n",
       "       [  1.,  70.],\n",
       "       [  1.,  54.],\n",
       "       [  1., 150.],\n",
       "       [  1., 120.],\n",
       "       [  1., 110.]])"
      ]
     },
     "execution_count": 8,
     "metadata": {},
     "output_type": "execute_result"
    }
   ],
   "source": [
    "zp=zp.reshape((-1,1))\n",
    "zp=np.hstack([np.ones((len(zp),1)),zp])\n",
    "zp"
   ]
  },
  {
   "cell_type": "code",
   "execution_count": 9,
   "id": "19b65420",
   "metadata": {},
   "outputs": [
    {
     "data": {
      "text/plain": [
       "array([[444.17735732],\n",
       "       [  2.62053888]])"
      ]
     },
     "execution_count": 9,
     "metadata": {},
     "output_type": "execute_result"
    }
   ],
   "source": [
    "B=np.dot(np.linalg.inv(np.dot(zp.T,zp)),np.dot(zp.T,ks))\n",
    "B"
   ]
  },
  {
   "cell_type": "code",
   "execution_count": 10,
   "id": "e8e3ea9d",
   "metadata": {},
   "outputs": [],
   "source": [
    "#если пренебречь величиной интерсепта,тогда линейная взвимосвязь переменных будет описываться функцией вида y=b*x\n",
    "zp = np.array([35, 45, 190, 200, 40, 70, 54, 150, 120, 110])\n",
    "ks = np.array([401, 574, 874, 919, 459, 739, 653, 902, 746, 832])"
   ]
  },
  {
   "cell_type": "code",
   "execution_count": 11,
   "id": "762af7e1",
   "metadata": {},
   "outputs": [
    {
     "data": {
      "text/plain": [
       "array([[401],\n",
       "       [574],\n",
       "       [874],\n",
       "       [919],\n",
       "       [459],\n",
       "       [739],\n",
       "       [653],\n",
       "       [902],\n",
       "       [746],\n",
       "       [832]])"
      ]
     },
     "execution_count": 11,
     "metadata": {},
     "output_type": "execute_result"
    }
   ],
   "source": [
    "ks=ks.reshape((-1,1))\n",
    "ks"
   ]
  },
  {
   "cell_type": "code",
   "execution_count": 12,
   "id": "8c3c5f7f",
   "metadata": {},
   "outputs": [
    {
     "data": {
      "text/plain": [
       "array([[ 35],\n",
       "       [ 45],\n",
       "       [190],\n",
       "       [200],\n",
       "       [ 40],\n",
       "       [ 70],\n",
       "       [ 54],\n",
       "       [150],\n",
       "       [120],\n",
       "       [110]])"
      ]
     },
     "execution_count": 12,
     "metadata": {},
     "output_type": "execute_result"
    }
   ],
   "source": [
    "zp=zp.reshape((-1,1))\n",
    "zp"
   ]
  },
  {
   "cell_type": "code",
   "execution_count": 13,
   "id": "46d8a5b0",
   "metadata": {},
   "outputs": [
    {
     "data": {
      "text/plain": [
       "array([[5.88982042]])"
      ]
     },
     "execution_count": 13,
     "metadata": {},
     "output_type": "execute_result"
    }
   ],
   "source": [
    "B=np.dot(np.linalg.inv(np.dot(zp.T,zp)),np.dot(zp.T,ks))\n",
    "B"
   ]
  },
  {
   "cell_type": "code",
   "execution_count": 14,
   "id": "81895046",
   "metadata": {},
   "outputs": [
    {
     "data": {
      "image/png": "[encoded data removed]",
      "text/plain": [
       "<Figure size 432x288 with 1 Axes>"
      ]
     },
     "metadata": {
      "needs_background": "light"
     },
     "output_type": "display_data"
    }
   ],
   "source": [
    "plt.scatter(zp,ks)\n",
    "plt.plot(zp, 444.18+2.62*zp, c='r', label=r'$ks=444.18+2.62\\cdot zp$')\n",
    "plt.plot(zp, B*zp, c='g', label=r'$ks=5.89\\cdot zp$')\n",
    "plt.legend()\n",
    "plt.xlabel('Величина заработной платы')\n",
    "plt.ylabel('Поведенческий кредитный скоринг', rotation=90)\n",
    "plt.show()"
   ]
  },
  {
   "cell_type": "code",
   "execution_count": 15,
   "id": "6b103867",
   "metadata": {},
   "outputs": [],
   "source": [
    "# 2. \n",
    "\n",
    "def _mse(b, x, y):\n",
    "    return np.sum((b*x-y)**2)/len(x)"
   ]
  },
  {
   "cell_type": "code",
   "execution_count": 16,
   "id": "6b7248b2",
   "metadata": {},
   "outputs": [],
   "source": [
    "# b=2.62\n",
    "zp = np.array([35, 45, 190, 200, 40, 70, 54, 150, 120, 110])\n",
    "ks = np.array([401, 574, 874, 919, 459, 739, 653, 902, 746, 832])"
   ]
  },
  {
   "cell_type": "code",
   "execution_count": 17,
   "id": "e0c8c2bf",
   "metadata": {},
   "outputs": [
    {
     "data": {
      "text/plain": [
       "203812.48504"
      ]
     },
     "execution_count": 17,
     "metadata": {},
     "output_type": "execute_result"
    }
   ],
   "source": [
    "_mse(2.62, zp, ks)"
   ]
  },
  {
   "cell_type": "code",
   "execution_count": 18,
   "id": "5517de72",
   "metadata": {},
   "outputs": [],
   "source": [
    "#подбор коэффициента в, при котором MSE-> 0, используя свойства производной. Для этого вычислим производную нашей функции потерь:\n",
    "def _mse_p(b,x,y):\n",
    "    return (2/len(x))*np.sum((b*x-y)*x)"
   ]
  },
  {
   "cell_type": "code",
   "execution_count": 19,
   "id": "121d9565",
   "metadata": {},
   "outputs": [],
   "source": [
    "#введем параметр - скорость обучения c помощью которого будем регулировать скорость подбора коэффициента b \n",
    "alpha=1e-06"
   ]
  },
  {
   "cell_type": "code",
   "execution_count": 20,
   "id": "ea6614df",
   "metadata": {},
   "outputs": [
    {
     "name": "stdout",
     "output_type": "stream",
     "text": [
      "Итерация #0, b=0.25952808000000005, mse=493237.7212546963\n",
      "Итерация #100, b=5.54537842245223, mse=58151.31823171113\n",
      "Итерация #200, b=5.868748638669329, mse=56522.97550129376\n",
      "Итерация #300, b=5.888531320728348, mse=56516.88130936019\n",
      "Итерация #400, b=5.8897415574471985, mse=56516.85850140053\n",
      "Итерация #500, b=5.889815595583751, mse=56516.858416040064\n",
      "Итерация #600, b=5.889820124983314, mse=56516.85841572062\n",
      "Итерация #628, b=5.889820285147628, mse=56516.85841571966,\n",
      "Достигнут минимум.\n"
     ]
    }
   ],
   "source": [
    "b=0.1\n",
    "mse_min=_mse(b,zp,ks)\n",
    "i_min=1\n",
    "b_min=b\n",
    "for i in range(10000):\n",
    "    b-=alpha*_mse_p(b,zp,ks)\n",
    "    if i%100==0:\n",
    "        print(f'Итерация #{i}, b={b}, mse={_mse(b, zp,ks)}')\n",
    "    if _mse(b,zp,ks)>mse_min:\n",
    "        print(f'Итерация #{i_min}, b={b_min}, mse={mse_min},\\nДостигнут минимум.')\n",
    "        break\n",
    "    else:\n",
    "        mse_min=_mse(b,zp,ks)\n",
    "        i_min=i\n",
    "        b_min=b"
   ]
  },
  {
   "cell_type": "code",
   "execution_count": 21,
   "id": "2f8166a8",
   "metadata": {},
   "outputs": [
    {
     "data": {
      "text/plain": [
       "5.889820285147628"
      ]
     },
     "execution_count": 21,
     "metadata": {},
     "output_type": "execute_result"
    }
   ],
   "source": [
    "b_min"
   ]
  },
  {
   "cell_type": "code",
   "execution_count": null,
   "id": "90a4c162",
   "metadata": {},
   "outputs": [],
   "source": []
  }
 ],
 "metadata": {
  "kernelspec": {
   "display_name": "Python 3",
   "language": "python",
   "name": "python3"
  },
  "language_info": {
   "codemirror_mode": {
    "name": "ipython",
    "version": 3
   },
   "file_extension": ".py",
   "mimetype": "text/x-python",
   "name": "python",
   "nbconvert_exporter": "python",
   "pygments_lexer": "ipython3",
   "version": "3.8.8"
  }
 },
 "nbformat": 4,
 "nbformat_minor": 5
}
