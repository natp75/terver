{
 "cells": [
  {
   "cell_type": "code",
   "execution_count": 18,
   "id": "6831f72a",
   "metadata": {},
   "outputs": [
    {
     "name": "stdout",
     "output_type": "stream",
     "text": [
      "Наблюдаемое значение t-критерия: -1.0651\n"
     ]
    }
   ],
   "source": [
    "##4 , где  и  средние выборки и генеральной совокупности и выборки, соответственно.\n",
    "# Альтернативная гипотеза:\n",
    "# H0: µ=µ0=200\n",
    "# H1: µ≠ µ0\n",
    "# при этом будем использовать двусторонний критерий c уровнем значимости α=1-0.99\n",
    "# Поскольку нам не известны ни среднее, ни дисперсия генеральной совокупности, \n",
    "# то для проверки гипотезы будем использовать t-критерий.   Расчитаем наблюдаемое значение t-критерия tн\n",
    "\n",
    "import numpy as np\n",
    "import pandas as pd\n",
    "from scipy.stats import  binom\n",
    "from scipy.stats import  poisson\n",
    "import numpy as np\n",
    "import matplotlib.pyplot as plt\n",
    "\n",
    "cookies=np.array([202, 203, 199, 197, 195, 201, 200, 204, 194, 190])\n",
    "tn=(np.mean(cookies)-200)/(np.std(cookies,ddof=1)/len(cookies)**0.5)\n",
    "print(f'Наблюдаемое значение t-критерия: {tn: .4f}')"
   ]
  },
  {
   "cell_type": "code",
   "execution_count": 19,
   "id": "245550da",
   "metadata": {},
   "outputs": [
    {
     "name": "stdout",
     "output_type": "stream",
     "text": [
      "Табличное значение t-критерия:  3.2498\n"
     ]
    }
   ],
   "source": [
    "# Найдем табличное значение t-критерия tt для α/2=0.01/2=0.005\n",
    "\n",
    "tt=stats.t.ppf(0.995,len(cookies)-1)\n",
    "print(f'Табличное значение t-критерия: {tt: .4f}')"
   ]
  },
  {
   "cell_type": "code",
   "execution_count": 20,
   "id": "751ecc95",
   "metadata": {},
   "outputs": [
    {
     "data": {
      "text/plain": [
       "True"
      ]
     },
     "execution_count": 20,
     "metadata": {},
     "output_type": "execute_result"
    }
   ],
   "source": [
    "#Табличное значение t-критерия:  3.2498\n",
    "#Сравним полученные значения (поскольку у нас двусторонний критерий, то используем абсолютное значение полученного t-критерия):\n",
    "\n",
    "np.abs(tn)<tt"
   ]
  },
  {
   "cell_type": "code",
   "execution_count": null,
   "id": "0e46d53f",
   "metadata": {},
   "outputs": [],
   "source": [
    "Поскольку |tн| < tt, принимаем нулевую гипотезу на уровне значимости α = 0.01"
   ]
  }
 ],
 "metadata": {
  "kernelspec": {
   "display_name": "Python 3",
   "language": "python",
   "name": "python3"
  },
  "language_info": {
   "codemirror_mode": {
    "name": "ipython",
    "version": 3
   },
   "file_extension": ".py",
   "mimetype": "text/x-python",
   "name": "python",
   "nbconvert_exporter": "python",
   "pygments_lexer": "ipython3",
   "version": "3.8.8"
  }
 },
 "nbformat": 4,
 "nbformat_minor": 5
}
