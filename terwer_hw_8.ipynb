{
 "cells": [
  {
   "cell_type": "code",
   "execution_count": 1,
   "id": "0f7bb055",
   "metadata": {},
   "outputs": [],
   "source": [
    "import numpy as np\n",
    "import pandas as pd\n",
    "from scipy import stats"
   ]
  },
  {
   "cell_type": "code",
   "execution_count": null,
   "id": "05a1abc7",
   "metadata": {},
   "outputs": [],
   "source": [
    "#H0: mu1=mu2=mu3 т.е. средний рост спортсмена не зависит от вида спорта, которым он занимается(из представленных трех).\n",
    "#H1:mu1!=mu2!=mu3  т.е. средний рост спортсмена зависит от выбранного им спорта."
   ]
  },
  {
   "cell_type": "code",
   "execution_count": 2,
   "id": "4fedd960",
   "metadata": {},
   "outputs": [],
   "source": [
    "football=np.array([173, 175, 180, 178, 177, 185, 183, 182])\n",
    "hockey=np.array([177, 179, 180, 188, 177, 172, 171, 184, 180])\n",
    "weightlifting=np.array([172, 173, 169, 177, 166, 180, 178, 177, 172, 166, 170])"
   ]
  },
  {
   "cell_type": "code",
   "execution_count": 3,
   "id": "d0939d2f",
   "metadata": {},
   "outputs": [
    {
     "data": {
      "text/plain": [
       "F_onewayResult(statistic=5.500053450812596, pvalue=0.010482206918698694)"
      ]
     },
     "execution_count": 3,
     "metadata": {},
     "output_type": "execute_result"
    }
   ],
   "source": [
    "stats.f_oneway(football, hockey, weightlifting) # метод однофакторного дисперсионного анализа библиотеки scipy"
   ]
  },
  {
   "cell_type": "code",
   "execution_count": null,
   "id": "ec3a0a1a",
   "metadata": {},
   "outputs": [],
   "source": [
    "Получили значение pvalue=0.01048 -  на уровне статистической значимости alfa=0.05 отвергаем нулевую гипотезу. Т.е. средний рост\n",
    "футболистов, хоккеистов и штангистов различен.\n",
    "При этом на уровне значимости alfa=0.01 нулевую гипотезу отвергнуть не можем."
   ]
  }
 ],
 "metadata": {
  "kernelspec": {
   "display_name": "Python 3",
   "language": "python",
   "name": "python3"
  },
  "language_info": {
   "codemirror_mode": {
    "name": "ipython",
    "version": 3
   },
   "file_extension": ".py",
   "mimetype": "text/x-python",
   "name": "python",
   "nbconvert_exporter": "python",
   "pygments_lexer": "ipython3",
   "version": "3.8.8"
  }
 },
 "nbformat": 4,
 "nbformat_minor": 5
}
